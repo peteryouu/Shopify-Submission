{
 "cells": [
  {
   "cell_type": "markdown",
   "id": "8e87dd77",
   "metadata": {},
   "source": [
    "DATA SCIENCE INTERN - 2022 WINTER"
   ]
  },
  {
   "cell_type": "markdown",
   "id": "2fa6e22e",
   "metadata": {},
   "source": [
    "Peter Yu"
   ]
  },
  {
   "cell_type": "markdown",
   "id": "4e9bdc4e",
   "metadata": {},
   "source": [
    "Question 1: Given some sample data, write a program to answer the following: click here to access the required data set\n",
    "\n",
    "On Shopify, we have exactly 100 sneaker shops, and each of these shops sells only one model of shoe. We want to do some analysis of the average order value (AOV). When we look at orders data over a 30 day window, we naively calculate an AOV of $3145.13. Given that we know these shops are selling sneakers, a relatively affordable item, something seems wrong with our analysis. \n",
    "\n",
    "Think about what could be going wrong with our calculation. Think about a better way to evaluate this data. \n",
    "What metric would you report for this dataset?\n",
    "What is its value?\n"
   ]
  },
  {
   "cell_type": "code",
   "execution_count": 22,
   "id": "4d0a73a1",
   "metadata": {},
   "outputs": [],
   "source": [
    "import pandas as pd\n",
    "import matplotlib.pyplot as plt\n",
    "import numpy as np\n",
    "import seaborn as sns\n",
    "%matplotlib inline\n",
    "sns.set()"
   ]
  },
  {
   "cell_type": "code",
   "execution_count": 2,
   "id": "f7bafaa5",
   "metadata": {},
   "outputs": [],
   "source": [
    "data = pd.read_csv('shoe_data.csv')"
   ]
  },
  {
   "cell_type": "code",
   "execution_count": 3,
   "id": "24e63466",
   "metadata": {
    "scrolled": true
   },
   "outputs": [
    {
     "data": {
      "text/html": [
       "<div>\n",
       "<style scoped>\n",
       "    .dataframe tbody tr th:only-of-type {\n",
       "        vertical-align: middle;\n",
       "    }\n",
       "\n",
       "    .dataframe tbody tr th {\n",
       "        vertical-align: top;\n",
       "    }\n",
       "\n",
       "    .dataframe thead th {\n",
       "        text-align: right;\n",
       "    }\n",
       "</style>\n",
       "<table border=\"1\" class=\"dataframe\">\n",
       "  <thead>\n",
       "    <tr style=\"text-align: right;\">\n",
       "      <th></th>\n",
       "      <th>order_id</th>\n",
       "      <th>shop_id</th>\n",
       "      <th>user_id</th>\n",
       "      <th>order_amount</th>\n",
       "      <th>total_items</th>\n",
       "      <th>payment_method</th>\n",
       "      <th>created_at</th>\n",
       "    </tr>\n",
       "  </thead>\n",
       "  <tbody>\n",
       "    <tr>\n",
       "      <th>0</th>\n",
       "      <td>1</td>\n",
       "      <td>53</td>\n",
       "      <td>746</td>\n",
       "      <td>224</td>\n",
       "      <td>2</td>\n",
       "      <td>cash</td>\n",
       "      <td>2017-03-13 12:36:56</td>\n",
       "    </tr>\n",
       "    <tr>\n",
       "      <th>1</th>\n",
       "      <td>2</td>\n",
       "      <td>92</td>\n",
       "      <td>925</td>\n",
       "      <td>90</td>\n",
       "      <td>1</td>\n",
       "      <td>cash</td>\n",
       "      <td>2017-03-03 17:38:52</td>\n",
       "    </tr>\n",
       "    <tr>\n",
       "      <th>2</th>\n",
       "      <td>3</td>\n",
       "      <td>44</td>\n",
       "      <td>861</td>\n",
       "      <td>144</td>\n",
       "      <td>1</td>\n",
       "      <td>cash</td>\n",
       "      <td>2017-03-14 4:23:56</td>\n",
       "    </tr>\n",
       "    <tr>\n",
       "      <th>3</th>\n",
       "      <td>4</td>\n",
       "      <td>18</td>\n",
       "      <td>935</td>\n",
       "      <td>156</td>\n",
       "      <td>1</td>\n",
       "      <td>credit_card</td>\n",
       "      <td>2017-03-26 12:43:37</td>\n",
       "    </tr>\n",
       "    <tr>\n",
       "      <th>4</th>\n",
       "      <td>5</td>\n",
       "      <td>18</td>\n",
       "      <td>883</td>\n",
       "      <td>156</td>\n",
       "      <td>1</td>\n",
       "      <td>credit_card</td>\n",
       "      <td>2017-03-01 4:35:11</td>\n",
       "    </tr>\n",
       "  </tbody>\n",
       "</table>\n",
       "</div>"
      ],
      "text/plain": [
       "   order_id  shop_id  user_id  order_amount  total_items payment_method  \\\n",
       "0         1       53      746           224            2           cash   \n",
       "1         2       92      925            90            1           cash   \n",
       "2         3       44      861           144            1           cash   \n",
       "3         4       18      935           156            1    credit_card   \n",
       "4         5       18      883           156            1    credit_card   \n",
       "\n",
       "            created_at  \n",
       "0  2017-03-13 12:36:56  \n",
       "1  2017-03-03 17:38:52  \n",
       "2   2017-03-14 4:23:56  \n",
       "3  2017-03-26 12:43:37  \n",
       "4   2017-03-01 4:35:11  "
      ]
     },
     "execution_count": 3,
     "metadata": {},
     "output_type": "execute_result"
    }
   ],
   "source": [
    "data.head(5)"
   ]
  },
  {
   "cell_type": "code",
   "execution_count": 4,
   "id": "d2bee2ac",
   "metadata": {
    "scrolled": false
   },
   "outputs": [
    {
     "data": {
      "text/html": [
       "<div>\n",
       "<style scoped>\n",
       "    .dataframe tbody tr th:only-of-type {\n",
       "        vertical-align: middle;\n",
       "    }\n",
       "\n",
       "    .dataframe tbody tr th {\n",
       "        vertical-align: top;\n",
       "    }\n",
       "\n",
       "    .dataframe thead th {\n",
       "        text-align: right;\n",
       "    }\n",
       "</style>\n",
       "<table border=\"1\" class=\"dataframe\">\n",
       "  <thead>\n",
       "    <tr style=\"text-align: right;\">\n",
       "      <th></th>\n",
       "      <th>order_id</th>\n",
       "      <th>shop_id</th>\n",
       "      <th>user_id</th>\n",
       "      <th>order_amount</th>\n",
       "      <th>total_items</th>\n",
       "    </tr>\n",
       "  </thead>\n",
       "  <tbody>\n",
       "    <tr>\n",
       "      <th>count</th>\n",
       "      <td>5000.000000</td>\n",
       "      <td>5000.000000</td>\n",
       "      <td>5000.000000</td>\n",
       "      <td>5000.000000</td>\n",
       "      <td>5000.00000</td>\n",
       "    </tr>\n",
       "    <tr>\n",
       "      <th>mean</th>\n",
       "      <td>2500.500000</td>\n",
       "      <td>50.078800</td>\n",
       "      <td>849.092400</td>\n",
       "      <td>3145.128000</td>\n",
       "      <td>8.78720</td>\n",
       "    </tr>\n",
       "    <tr>\n",
       "      <th>std</th>\n",
       "      <td>1443.520003</td>\n",
       "      <td>29.006118</td>\n",
       "      <td>87.798982</td>\n",
       "      <td>41282.539349</td>\n",
       "      <td>116.32032</td>\n",
       "    </tr>\n",
       "    <tr>\n",
       "      <th>min</th>\n",
       "      <td>1.000000</td>\n",
       "      <td>1.000000</td>\n",
       "      <td>607.000000</td>\n",
       "      <td>90.000000</td>\n",
       "      <td>1.00000</td>\n",
       "    </tr>\n",
       "    <tr>\n",
       "      <th>25%</th>\n",
       "      <td>1250.750000</td>\n",
       "      <td>24.000000</td>\n",
       "      <td>775.000000</td>\n",
       "      <td>163.000000</td>\n",
       "      <td>1.00000</td>\n",
       "    </tr>\n",
       "    <tr>\n",
       "      <th>50%</th>\n",
       "      <td>2500.500000</td>\n",
       "      <td>50.000000</td>\n",
       "      <td>849.000000</td>\n",
       "      <td>284.000000</td>\n",
       "      <td>2.00000</td>\n",
       "    </tr>\n",
       "    <tr>\n",
       "      <th>75%</th>\n",
       "      <td>3750.250000</td>\n",
       "      <td>75.000000</td>\n",
       "      <td>925.000000</td>\n",
       "      <td>390.000000</td>\n",
       "      <td>3.00000</td>\n",
       "    </tr>\n",
       "    <tr>\n",
       "      <th>max</th>\n",
       "      <td>5000.000000</td>\n",
       "      <td>100.000000</td>\n",
       "      <td>999.000000</td>\n",
       "      <td>704000.000000</td>\n",
       "      <td>2000.00000</td>\n",
       "    </tr>\n",
       "  </tbody>\n",
       "</table>\n",
       "</div>"
      ],
      "text/plain": [
       "          order_id      shop_id      user_id   order_amount  total_items\n",
       "count  5000.000000  5000.000000  5000.000000    5000.000000   5000.00000\n",
       "mean   2500.500000    50.078800   849.092400    3145.128000      8.78720\n",
       "std    1443.520003    29.006118    87.798982   41282.539349    116.32032\n",
       "min       1.000000     1.000000   607.000000      90.000000      1.00000\n",
       "25%    1250.750000    24.000000   775.000000     163.000000      1.00000\n",
       "50%    2500.500000    50.000000   849.000000     284.000000      2.00000\n",
       "75%    3750.250000    75.000000   925.000000     390.000000      3.00000\n",
       "max    5000.000000   100.000000   999.000000  704000.000000   2000.00000"
      ]
     },
     "execution_count": 4,
     "metadata": {},
     "output_type": "execute_result"
    }
   ],
   "source": [
    "data.describe()"
   ]
  },
  {
   "cell_type": "code",
   "execution_count": 119,
   "id": "fe7f45d8",
   "metadata": {},
   "outputs": [
    {
     "data": {
      "text/plain": [
       "3145.128"
      ]
     },
     "execution_count": 119,
     "metadata": {},
     "output_type": "execute_result"
    }
   ],
   "source": [
    "np.sum(data.order_amount)/np.max(data.order_id)"
   ]
  },
  {
   "cell_type": "markdown",
   "id": "4f635f5e",
   "metadata": {},
   "source": [
    "Knowing that AOV is represented as:\n",
    "    $AOV = sales / total_items$\n",
    "We see that we have reason to be suspicious about some of our data. This is because we see our order_amount is on average 3145.128, but goes all the way to 704000! Additionally, our total_items has a mean of 8.78, but goes to 2000!\n"
   ]
  },
  {
   "cell_type": "code",
   "execution_count": 33,
   "id": "cd8579ea",
   "metadata": {},
   "outputs": [
    {
     "data": {
      "text/plain": [
       "'2017-03-30 9:55:00'"
      ]
     },
     "execution_count": 33,
     "metadata": {},
     "output_type": "execute_result"
    }
   ],
   "source": [
    "np.max(data.created_at)"
   ]
  },
  {
   "cell_type": "code",
   "execution_count": 34,
   "id": "6b1c58cd",
   "metadata": {},
   "outputs": [
    {
     "data": {
      "text/plain": [
       "'2017-03-01 0:08:09'"
      ]
     },
     "execution_count": 34,
     "metadata": {},
     "output_type": "execute_result"
    }
   ],
   "source": [
    "np.min(data.created_at)"
   ]
  },
  {
   "cell_type": "markdown",
   "id": "8bee24b5",
   "metadata": {},
   "source": [
    "We can confirm the dataset truly contains 30 days worth of data from the two above lines."
   ]
  },
  {
   "cell_type": "markdown",
   "id": "fe189191",
   "metadata": {},
   "source": [
    "We see that based on the order amount column, we would get a right-skewed distribution if we were to create a histogram, and that we can't elucidate much of what's going on with our dataset.\n",
    "Instead, we apply a log function on the order amount."
   ]
  },
  {
   "cell_type": "code",
   "execution_count": 53,
   "id": "830729bc",
   "metadata": {
    "scrolled": false
   },
   "outputs": [
    {
     "data": {
      "image/png": "[encoded data removed]",
      "text/plain": [
       "<Figure size 432x288 with 1 Axes>"
      ]
     },
     "metadata": {},
     "output_type": "display_data"
    }
   ],
   "source": [
    "sns.histplot(np.log(data.order_amount))\n",
    "median_val = np.median(data.order_amount)\n",
    "plt.axvline(np.log(np.median(data.order_amount)), 0, color = 'r', label = f'median AOV log({median_val})')\n",
    "plt.axvline(np.log(3145.13), 0, color = 'g',label = 'naive AOV log(3145.13)')\n",
    "plt.legend()\n",
    "plt.title('Histogram of Log(Orders) of shoes over 30 days')\n",
    "plt.xlabel('Order Amount in $')\n",
    "plt.show()"
   ]
  },
  {
   "cell_type": "markdown",
   "id": "91faff95",
   "metadata": {},
   "source": [
    "We see that from our histogram, our naive AOV (green) seems to be drawn from the low-frequency-high-order-amount values on the right of our distribution. Our newly proposed metric of using the data's median (red) seems to better represent our distribution. "
   ]
  },
  {
   "cell_type": "code",
   "execution_count": 72,
   "id": "57f8a6ff",
   "metadata": {
    "scrolled": false
   },
   "outputs": [
    {
     "data": {
      "text/html": [
       "<div>\n",
       "<style scoped>\n",
       "    .dataframe tbody tr th:only-of-type {\n",
       "        vertical-align: middle;\n",
       "    }\n",
       "\n",
       "    .dataframe tbody tr th {\n",
       "        vertical-align: top;\n",
       "    }\n",
       "\n",
       "    .dataframe thead tr th {\n",
       "        text-align: left;\n",
       "    }\n",
       "\n",
       "    .dataframe thead tr:last-of-type th {\n",
       "        text-align: right;\n",
       "    }\n",
       "</style>\n",
       "<table border=\"1\" class=\"dataframe\">\n",
       "  <thead>\n",
       "    <tr>\n",
       "      <th></th>\n",
       "      <th colspan=\"8\" halign=\"left\">order_amount</th>\n",
       "    </tr>\n",
       "    <tr>\n",
       "      <th></th>\n",
       "      <th>count</th>\n",
       "      <th>mean</th>\n",
       "      <th>std</th>\n",
       "      <th>min</th>\n",
       "      <th>25%</th>\n",
       "      <th>50%</th>\n",
       "      <th>75%</th>\n",
       "      <th>max</th>\n",
       "    </tr>\n",
       "    <tr>\n",
       "      <th>total_items</th>\n",
       "      <th></th>\n",
       "      <th></th>\n",
       "      <th></th>\n",
       "      <th></th>\n",
       "      <th></th>\n",
       "      <th></th>\n",
       "      <th></th>\n",
       "      <th></th>\n",
       "    </tr>\n",
       "  </thead>\n",
       "  <tbody>\n",
       "    <tr>\n",
       "      <th>2000</th>\n",
       "      <td>17.0</td>\n",
       "      <td>704000.000000</td>\n",
       "      <td>0.000000</td>\n",
       "      <td>704000.0</td>\n",
       "      <td>704000.0</td>\n",
       "      <td>704000.0</td>\n",
       "      <td>704000.0</td>\n",
       "      <td>704000.0</td>\n",
       "    </tr>\n",
       "    <tr>\n",
       "      <th>8</th>\n",
       "      <td>1.0</td>\n",
       "      <td>1064.000000</td>\n",
       "      <td>NaN</td>\n",
       "      <td>1064.0</td>\n",
       "      <td>1064.0</td>\n",
       "      <td>1064.0</td>\n",
       "      <td>1064.0</td>\n",
       "      <td>1064.0</td>\n",
       "    </tr>\n",
       "    <tr>\n",
       "      <th>6</th>\n",
       "      <td>9.0</td>\n",
       "      <td>17940.000000</td>\n",
       "      <td>51153.864136</td>\n",
       "      <td>774.0</td>\n",
       "      <td>786.0</td>\n",
       "      <td>948.0</td>\n",
       "      <td>960.0</td>\n",
       "      <td>154350.0</td>\n",
       "    </tr>\n",
       "    <tr>\n",
       "      <th>5</th>\n",
       "      <td>77.0</td>\n",
       "      <td>759.350649</td>\n",
       "      <td>161.174453</td>\n",
       "      <td>450.0</td>\n",
       "      <td>670.0</td>\n",
       "      <td>765.0</td>\n",
       "      <td>815.0</td>\n",
       "      <td>1760.0</td>\n",
       "    </tr>\n",
       "    <tr>\n",
       "      <th>4</th>\n",
       "      <td>293.0</td>\n",
       "      <td>947.686007</td>\n",
       "      <td>5977.632918</td>\n",
       "      <td>360.0</td>\n",
       "      <td>520.0</td>\n",
       "      <td>592.0</td>\n",
       "      <td>660.0</td>\n",
       "      <td>102900.0</td>\n",
       "    </tr>\n",
       "    <tr>\n",
       "      <th>3</th>\n",
       "      <td>941.0</td>\n",
       "      <td>1191.076514</td>\n",
       "      <td>7471.160149</td>\n",
       "      <td>270.0</td>\n",
       "      <td>402.0</td>\n",
       "      <td>459.0</td>\n",
       "      <td>504.0</td>\n",
       "      <td>77175.0</td>\n",
       "    </tr>\n",
       "    <tr>\n",
       "      <th>2</th>\n",
       "      <td>1832.0</td>\n",
       "      <td>750.215066</td>\n",
       "      <td>4760.572162</td>\n",
       "      <td>180.0</td>\n",
       "      <td>264.0</td>\n",
       "      <td>306.0</td>\n",
       "      <td>336.0</td>\n",
       "      <td>51450.0</td>\n",
       "    </tr>\n",
       "    <tr>\n",
       "      <th>1</th>\n",
       "      <td>1830.0</td>\n",
       "      <td>417.364481</td>\n",
       "      <td>2593.090627</td>\n",
       "      <td>90.0</td>\n",
       "      <td>132.0</td>\n",
       "      <td>153.0</td>\n",
       "      <td>169.0</td>\n",
       "      <td>25725.0</td>\n",
       "    </tr>\n",
       "  </tbody>\n",
       "</table>\n",
       "</div>"
      ],
      "text/plain": [
       "            order_amount                                                   \\\n",
       "                   count           mean           std       min       25%   \n",
       "total_items                                                                 \n",
       "2000                17.0  704000.000000      0.000000  704000.0  704000.0   \n",
       "8                    1.0    1064.000000           NaN    1064.0    1064.0   \n",
       "6                    9.0   17940.000000  51153.864136     774.0     786.0   \n",
       "5                   77.0     759.350649    161.174453     450.0     670.0   \n",
       "4                  293.0     947.686007   5977.632918     360.0     520.0   \n",
       "3                  941.0    1191.076514   7471.160149     270.0     402.0   \n",
       "2                 1832.0     750.215066   4760.572162     180.0     264.0   \n",
       "1                 1830.0     417.364481   2593.090627      90.0     132.0   \n",
       "\n",
       "                                           \n",
       "                  50%       75%       max  \n",
       "total_items                                \n",
       "2000         704000.0  704000.0  704000.0  \n",
       "8              1064.0    1064.0    1064.0  \n",
       "6               948.0     960.0  154350.0  \n",
       "5               765.0     815.0    1760.0  \n",
       "4               592.0     660.0  102900.0  \n",
       "3               459.0     504.0   77175.0  \n",
       "2               306.0     336.0   51450.0  \n",
       "1               153.0     169.0   25725.0  "
      ]
     },
     "execution_count": 72,
     "metadata": {},
     "output_type": "execute_result"
    }
   ],
   "source": [
    "data[['total_items','order_amount']].groupby('total_items').describe().sort_values(by='total_items',ascending=False)"
   ]
  },
  {
   "cell_type": "code",
   "execution_count": 78,
   "id": "53d5038f",
   "metadata": {},
   "outputs": [
    {
     "data": {
      "text/plain": [
       "order_amount\n",
       "90        18\n",
       "94        25\n",
       "101       15\n",
       "111       16\n",
       "112       48\n",
       "          ..\n",
       "51450     16\n",
       "77175      9\n",
       "102900     1\n",
       "154350     1\n",
       "704000    17\n",
       "Length: 258, dtype: int64"
      ]
     },
     "execution_count": 78,
     "metadata": {},
     "output_type": "execute_result"
    }
   ],
   "source": [
    "data[['total_items','order_amount']].sort_values(by='total_items',ascending=False).groupby('order_amount').size()"
   ]
  },
  {
   "cell_type": "markdown",
   "id": "9cab39e5",
   "metadata": {},
   "source": [
    "We see from our sorted data that 1. there seems to be 17 orders that are 704,000 each! That does not seem right especially when compared to the other data in the first table above\n",
    "2. From the second table we have, it tells us that it's not just $704,000 that's throwing off our naive AOV value, but also 154350, 102900, etc.,\n",
    "\n",
    "For interest sake, let's calculate the naive-AOV if those potential outlier values were omitted."
   ]
  },
  {
   "cell_type": "code",
   "execution_count": 109,
   "id": "4825c1a7",
   "metadata": {},
   "outputs": [
    {
     "data": {
      "text/html": [
       "<div>\n",
       "<style scoped>\n",
       "    .dataframe tbody tr th:only-of-type {\n",
       "        vertical-align: middle;\n",
       "    }\n",
       "\n",
       "    .dataframe tbody tr th {\n",
       "        vertical-align: top;\n",
       "    }\n",
       "\n",
       "    .dataframe thead tr th {\n",
       "        text-align: left;\n",
       "    }\n",
       "\n",
       "    .dataframe thead tr:last-of-type th {\n",
       "        text-align: right;\n",
       "    }\n",
       "</style>\n",
       "<table border=\"1\" class=\"dataframe\">\n",
       "  <thead>\n",
       "    <tr>\n",
       "      <th></th>\n",
       "      <th>order_id</th>\n",
       "    </tr>\n",
       "    <tr>\n",
       "      <th></th>\n",
       "      <th>nunique</th>\n",
       "    </tr>\n",
       "    <tr>\n",
       "      <th>order_amount</th>\n",
       "      <th></th>\n",
       "    </tr>\n",
       "  </thead>\n",
       "  <tbody>\n",
       "    <tr>\n",
       "      <th>1064</th>\n",
       "      <td>1</td>\n",
       "    </tr>\n",
       "    <tr>\n",
       "      <th>1086</th>\n",
       "      <td>1</td>\n",
       "    </tr>\n",
       "    <tr>\n",
       "      <th>1408</th>\n",
       "      <td>2</td>\n",
       "    </tr>\n",
       "    <tr>\n",
       "      <th>1760</th>\n",
       "      <td>1</td>\n",
       "    </tr>\n",
       "    <tr>\n",
       "      <th>25725</th>\n",
       "      <td>19</td>\n",
       "    </tr>\n",
       "    <tr>\n",
       "      <th>51450</th>\n",
       "      <td>16</td>\n",
       "    </tr>\n",
       "    <tr>\n",
       "      <th>77175</th>\n",
       "      <td>9</td>\n",
       "    </tr>\n",
       "    <tr>\n",
       "      <th>102900</th>\n",
       "      <td>1</td>\n",
       "    </tr>\n",
       "    <tr>\n",
       "      <th>154350</th>\n",
       "      <td>1</td>\n",
       "    </tr>\n",
       "    <tr>\n",
       "      <th>704000</th>\n",
       "      <td>17</td>\n",
       "    </tr>\n",
       "  </tbody>\n",
       "</table>\n",
       "</div>"
      ],
      "text/plain": [
       "             order_id\n",
       "              nunique\n",
       "order_amount         \n",
       "1064                1\n",
       "1086                1\n",
       "1408                2\n",
       "1760                1\n",
       "25725              19\n",
       "51450              16\n",
       "77175               9\n",
       "102900              1\n",
       "154350              1\n",
       "704000             17"
      ]
     },
     "execution_count": 109,
     "metadata": {},
     "output_type": "execute_result"
    }
   ],
   "source": [
    "data[['order_id','order_amount']].groupby('order_amount').agg(['nunique']).tail(10)"
   ]
  },
  {
   "cell_type": "code",
   "execution_count": 110,
   "id": "285140e5",
   "metadata": {},
   "outputs": [],
   "source": [
    "new_data = data[data[\"order_amount\"] < 25725]"
   ]
  },
  {
   "cell_type": "code",
   "execution_count": 120,
   "id": "79ca07e0",
   "metadata": {},
   "outputs": [
    {
     "data": {
      "text/html": [
       "<div>\n",
       "<style scoped>\n",
       "    .dataframe tbody tr th:only-of-type {\n",
       "        vertical-align: middle;\n",
       "    }\n",
       "\n",
       "    .dataframe tbody tr th {\n",
       "        vertical-align: top;\n",
       "    }\n",
       "\n",
       "    .dataframe thead th {\n",
       "        text-align: right;\n",
       "    }\n",
       "</style>\n",
       "<table border=\"1\" class=\"dataframe\">\n",
       "  <thead>\n",
       "    <tr style=\"text-align: right;\">\n",
       "      <th></th>\n",
       "      <th>order_id</th>\n",
       "      <th>shop_id</th>\n",
       "      <th>user_id</th>\n",
       "      <th>order_amount</th>\n",
       "      <th>total_items</th>\n",
       "      <th>payment_method</th>\n",
       "      <th>created_at</th>\n",
       "    </tr>\n",
       "  </thead>\n",
       "  <tbody>\n",
       "    <tr>\n",
       "      <th>0</th>\n",
       "      <td>1</td>\n",
       "      <td>53</td>\n",
       "      <td>746</td>\n",
       "      <td>224</td>\n",
       "      <td>2</td>\n",
       "      <td>cash</td>\n",
       "      <td>2017-03-13 12:36:56</td>\n",
       "    </tr>\n",
       "    <tr>\n",
       "      <th>1</th>\n",
       "      <td>2</td>\n",
       "      <td>92</td>\n",
       "      <td>925</td>\n",
       "      <td>90</td>\n",
       "      <td>1</td>\n",
       "      <td>cash</td>\n",
       "      <td>2017-03-03 17:38:52</td>\n",
       "    </tr>\n",
       "    <tr>\n",
       "      <th>2</th>\n",
       "      <td>3</td>\n",
       "      <td>44</td>\n",
       "      <td>861</td>\n",
       "      <td>144</td>\n",
       "      <td>1</td>\n",
       "      <td>cash</td>\n",
       "      <td>2017-03-14 4:23:56</td>\n",
       "    </tr>\n",
       "    <tr>\n",
       "      <th>3</th>\n",
       "      <td>4</td>\n",
       "      <td>18</td>\n",
       "      <td>935</td>\n",
       "      <td>156</td>\n",
       "      <td>1</td>\n",
       "      <td>credit_card</td>\n",
       "      <td>2017-03-26 12:43:37</td>\n",
       "    </tr>\n",
       "    <tr>\n",
       "      <th>4</th>\n",
       "      <td>5</td>\n",
       "      <td>18</td>\n",
       "      <td>883</td>\n",
       "      <td>156</td>\n",
       "      <td>1</td>\n",
       "      <td>credit_card</td>\n",
       "      <td>2017-03-01 4:35:11</td>\n",
       "    </tr>\n",
       "    <tr>\n",
       "      <th>...</th>\n",
       "      <td>...</td>\n",
       "      <td>...</td>\n",
       "      <td>...</td>\n",
       "      <td>...</td>\n",
       "      <td>...</td>\n",
       "      <td>...</td>\n",
       "      <td>...</td>\n",
       "    </tr>\n",
       "    <tr>\n",
       "      <th>4995</th>\n",
       "      <td>4996</td>\n",
       "      <td>73</td>\n",
       "      <td>993</td>\n",
       "      <td>330</td>\n",
       "      <td>2</td>\n",
       "      <td>debit</td>\n",
       "      <td>2017-03-30 13:47:17</td>\n",
       "    </tr>\n",
       "    <tr>\n",
       "      <th>4996</th>\n",
       "      <td>4997</td>\n",
       "      <td>48</td>\n",
       "      <td>789</td>\n",
       "      <td>234</td>\n",
       "      <td>2</td>\n",
       "      <td>cash</td>\n",
       "      <td>2017-03-16 20:36:16</td>\n",
       "    </tr>\n",
       "    <tr>\n",
       "      <th>4997</th>\n",
       "      <td>4998</td>\n",
       "      <td>56</td>\n",
       "      <td>867</td>\n",
       "      <td>351</td>\n",
       "      <td>3</td>\n",
       "      <td>cash</td>\n",
       "      <td>2017-03-19 5:42:42</td>\n",
       "    </tr>\n",
       "    <tr>\n",
       "      <th>4998</th>\n",
       "      <td>4999</td>\n",
       "      <td>60</td>\n",
       "      <td>825</td>\n",
       "      <td>354</td>\n",
       "      <td>2</td>\n",
       "      <td>credit_card</td>\n",
       "      <td>2017-03-16 14:51:18</td>\n",
       "    </tr>\n",
       "    <tr>\n",
       "      <th>4999</th>\n",
       "      <td>5000</td>\n",
       "      <td>44</td>\n",
       "      <td>734</td>\n",
       "      <td>288</td>\n",
       "      <td>2</td>\n",
       "      <td>debit</td>\n",
       "      <td>2017-03-18 15:48:18</td>\n",
       "    </tr>\n",
       "  </tbody>\n",
       "</table>\n",
       "<p>4937 rows × 7 columns</p>\n",
       "</div>"
      ],
      "text/plain": [
       "      order_id  shop_id  user_id  order_amount  total_items payment_method  \\\n",
       "0            1       53      746           224            2           cash   \n",
       "1            2       92      925            90            1           cash   \n",
       "2            3       44      861           144            1           cash   \n",
       "3            4       18      935           156            1    credit_card   \n",
       "4            5       18      883           156            1    credit_card   \n",
       "...        ...      ...      ...           ...          ...            ...   \n",
       "4995      4996       73      993           330            2          debit   \n",
       "4996      4997       48      789           234            2           cash   \n",
       "4997      4998       56      867           351            3           cash   \n",
       "4998      4999       60      825           354            2    credit_card   \n",
       "4999      5000       44      734           288            2          debit   \n",
       "\n",
       "               created_at  \n",
       "0     2017-03-13 12:36:56  \n",
       "1     2017-03-03 17:38:52  \n",
       "2      2017-03-14 4:23:56  \n",
       "3     2017-03-26 12:43:37  \n",
       "4      2017-03-01 4:35:11  \n",
       "...                   ...  \n",
       "4995  2017-03-30 13:47:17  \n",
       "4996  2017-03-16 20:36:16  \n",
       "4997   2017-03-19 5:42:42  \n",
       "4998  2017-03-16 14:51:18  \n",
       "4999  2017-03-18 15:48:18  \n",
       "\n",
       "[4937 rows x 7 columns]"
      ]
     },
     "execution_count": 120,
     "metadata": {},
     "output_type": "execute_result"
    }
   ],
   "source": [
    "new_data"
   ]
  },
  {
   "cell_type": "code",
   "execution_count": 121,
   "id": "0fe34976",
   "metadata": {
    "scrolled": true
   },
   "outputs": [
    {
     "data": {
      "text/plain": [
       "298.768"
      ]
     },
     "execution_count": 121,
     "metadata": {},
     "output_type": "execute_result"
    }
   ],
   "source": [
    "np.sum(new_data.order_amount)/np.max(new_data.order_id)"
   ]
  },
  {
   "cell_type": "code",
   "execution_count": 125,
   "id": "db6c11e5",
   "metadata": {},
   "outputs": [
    {
     "data": {
      "text/plain": [
       "284.0"
      ]
     },
     "execution_count": 125,
     "metadata": {},
     "output_type": "execute_result"
    }
   ],
   "source": [
    "np.median(data.order_amount)"
   ]
  },
  {
   "cell_type": "markdown",
   "id": "149d7b10",
   "metadata": {},
   "source": [
    "Our new naive-AOV is 298.77 having removed the \"fishy\" values that were 1-2 magnitudes larger than the rest of our order_amounts. If we were to use median instead of AOV for average order value, we would get 284 regardless of the outliers."
   ]
  },
  {
   "cell_type": "markdown",
   "id": "2871446b",
   "metadata": {},
   "source": [
    "Q1A) To put shortly, there exists a small number of large orders that result in our order_amount data having a right-skewed distribution. Perhaps those stores are reselling the new Yeezys that Kanye West just tweeted about, or there was some popular celebrity that was caught wearing the newest Nike Air Mags, which led to those stores having abnormally high order_amounts. This led to our naive-AOV having a value of 3145, which certainly does not represent the rest of our data. \n",
    "\n",
    "Since shoes have a cult-ish following, we should instead keep a close eye on the news, especially if the stores hold high-demand shoes. We should also examine the stores 42, and 78 (based on our dataframe) to elucidate why exactly those stores are selling such large amounts. "
   ]
  },
  {
   "cell_type": "markdown",
   "id": "eb416a08",
   "metadata": {},
   "source": [
    "Q1B) To better report our dataset, I would recommend using median (284), which is very commonly used in situations like ours, where there's abnormally large values that skew our data. It is robust to such outliers. On the other hand, we can also use the updated AOV value having removed the large values (298.77)."
   ]
  },
  {
   "cell_type": "markdown",
   "id": "54fc48a3",
   "metadata": {},
   "source": [
    "Q1C) the median value is 284. The updated AOV would be 298.77"
   ]
  },
  {
   "cell_type": "code",
   "execution_count": null,
   "id": "934af192",
   "metadata": {},
   "outputs": [],
   "source": []
  },
  {
   "cell_type": "markdown",
   "id": "065a8f37",
   "metadata": {},
   "source": [
    "Q2A) How many orders were shipped by Speedy Express in total?\n",
    "\n",
    "54\n",
    "\n",
    "Select COUNT(S.ShipperID) FROM Orders O, Shippers S\n",
    "ON O.ShipperID = S.ShipperID\n",
    "WHERE ShipperName = \"Speedy Express\";\n",
    "\n",
    "Q2B) What is the last name of the employee with the most orders?\n",
    "\n",
    "Peacock\n",
    "\n",
    "Select E.LastName, Count($*$) Freq FROM ORDERS O, Employees E\n",
    "ON O.EmployeeID = E.EmployeeID\n",
    "GROUP BY E.LastName\n",
    "ORDER BY Freq DESC;\n",
    "\n",
    "Q3C) What product was ordered the most by customers in Germany?\n",
    "\n",
    "Boston Crab Meat\n",
    "\n",
    "Select ProductName, SUM(QUANTITY) TOTAL FROM Orders O, Customers C ON O.CustomerID = C.CustomerID\n",
    "JOIN OrderDetails D ON O.OrderID = D.OrderID\n",
    "JOIN Products P ON P.ProductID = D.ProductID\n",
    "WHERE Country = \"Germany\"\n",
    "GROUP BY D.ProductID\n",
    "ORDER BY TOTAL DESC"
   ]
  }
 ],
 "metadata": {
  "kernelspec": {
   "display_name": "Python 3 (ipykernel)",
   "language": "python",
   "name": "python3"
  },
  "language_info": {
   "codemirror_mode": {
    "name": "ipython",
    "version": 3
   },
   "file_extension": ".py",
   "mimetype": "text/x-python",
   "name": "python",
   "nbconvert_exporter": "python",
   "pygments_lexer": "ipython3",
   "version": "3.7.6"
  }
 },
 "nbformat": 4,
 "nbformat_minor": 5
}
